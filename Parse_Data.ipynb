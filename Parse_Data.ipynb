{
 "cells": [
  {
   "cell_type": "code",
   "execution_count": 50,
   "id": "2056ca8c-2b9f-4410-ad02-e6dfd08190bc",
   "metadata": {},
   "outputs": [],
   "source": [
    "import os\n",
    "import pandas as pd\n",
    "from bs4 import BeautifulSoup\n",
    "from io import StringIO"
   ]
  },
  {
   "cell_type": "code",
   "execution_count": 90,
   "id": "0bde5588-a58a-4530-8eb8-186cff1cfb52",
   "metadata": {},
   "outputs": [],
   "source": [
    "SCORE_DIR = \"data/scores\""
   ]
  },
  {
   "cell_type": "code",
   "execution_count": 94,
   "id": "1addf123-f961-446b-8508-2bbe15359b93",
   "metadata": {},
   "outputs": [],
   "source": [
    "box_scores = os.listdir(SCORE_DIR)"
   ]
  },
  {
   "cell_type": "code",
   "execution_count": 96,
   "id": "68348892-4006-44b7-893d-8e4aa6d55fd3",
   "metadata": {},
   "outputs": [
    {
     "name": "stdout",
     "output_type": "stream",
     "text": [
      "8886\n"
     ]
    }
   ],
   "source": [
    "print(len(box_scores))"
   ]
  },
  {
   "cell_type": "code",
   "execution_count": 53,
   "id": "a80ced70-dc8b-4851-a2d6-41a3bffeb1c6",
   "metadata": {},
   "outputs": [],
   "source": [
    "box_scores = [os.path.join(SCORE_DIR, f) for f in box_scores if f.endswith(\".html\")]"
   ]
  },
  {
   "cell_type": "code",
   "execution_count": 54,
   "id": "5cceef7d-7dbe-4638-b5c3-fe478b5fccc1",
   "metadata": {},
   "outputs": [],
   "source": [
    "def parse_html(box_score):\n",
    "    with open(box_score) as f:\n",
    "        html = f.read()\n",
    "\n",
    "    soup = BeautifulSoup(html)\n",
    "    [s.decompose() for s in soup.select(\"tr.over_header\")]\n",
    "    [s.decompose() for s in soup.select(\"tr.thead\")]\n",
    "    \n",
    "    return soup"
   ]
  },
  {
   "cell_type": "code",
   "execution_count": 55,
   "id": "a04e1c0e-e4c1-49f2-91e1-f177afc6edbc",
   "metadata": {},
   "outputs": [],
   "source": [
    "def read_line_score(soup):\n",
    "    line_score = pd.read_html(StringIO(str(soup)), attrs={\"id\": \"line_score\"})[0]\n",
    "    cols = list(line_score.columns)\n",
    "    cols[0] = \"team\"\n",
    "    cols[-1] = \"total\"\n",
    "\n",
    "    line_score.columns = cols\n",
    "\n",
    "    line_score = line_score[[\"team\", \"total\"]]\n",
    "    return line_score"
   ]
  },
  {
   "cell_type": "code",
   "execution_count": 56,
   "id": "9d04f9b0-0acb-4d46-b0e2-b7c8c9e41ba3",
   "metadata": {},
   "outputs": [],
   "source": [
    "def read_stats(soup, team, stat):\n",
    "    df = pd.read_html(StringIO(str(soup)), attrs={\"id\": f\"box-{team}-game-{stat}\"}, index_col=0)[0]\n",
    "    df = df.apply(pd.to_numeric, errors=\"coerce\")\n",
    "    return df"
   ]
  },
  {
   "cell_type": "code",
   "execution_count": 77,
   "id": "f7b0ac2f-5ba1-4299-b65d-5752fefd7799",
   "metadata": {},
   "outputs": [],
   "source": [
    "def read_season_info(soup):\n",
    "    nav = soup.select(\"#bottom_nav_container\")[0]\n",
    "    hrefs = [a[\"href\"] for a in nav.find_all(\"a\")]\n",
    "    season = os.path.basename(hrefs[1]).split(\"_\")[0]\n",
    "\n",
    "    return season"
   ]
  },
  {
   "cell_type": "code",
   "execution_count": null,
   "id": "68db79ed-1010-42be-ac15-14a29d57479f",
   "metadata": {},
   "outputs": [],
   "source": [
    "base_cols = None\n",
    "games = []\n",
    "\n",
    "for box_score in box_scores:\n",
    "    soup = parse_html(box_score)\n",
    "    \n",
    "    line_score = read_line_score(soup)\n",
    "    teams = list(line_score[\"team\"])\n",
    "    \n",
    "    summaries = []\n",
    "    for team in teams:\n",
    "        basic = read_stats(soup, team, \"basic\")\n",
    "        advanced = read_stats(soup, team, \"advanced\")\n",
    "    \n",
    "        totals = pd.concat([basic.iloc[-1,:], advanced.iloc[-1,:]])\n",
    "        totals.index = totals.index.str.lower()\n",
    "    \n",
    "        maxes = pd.concat([basic.iloc[:-1,:].max(), advanced.iloc[:-1,:].max()])\n",
    "        maxes.index = maxes.index.str.lower() + \"_max\"\n",
    "    \n",
    "        summary = pd.concat([totals, maxes])\n",
    "    \n",
    "        if base_cols is None:\n",
    "            base_cols = list(summary.index.drop_duplicates(keep=\"first\"))\n",
    "            base_cols = [b for b in base_cols if \"bpm\" not in b]\n",
    "    \n",
    "        summary = summary[base_cols]\n",
    "    \n",
    "        summaries.append(summary)\n",
    "    \n",
    "    summary = pd.concat(summaries, axis=1).T\n",
    "    \n",
    "    game = pd.concat([summary, line_score], axis=1)\n",
    "    game[\"home\"] = [0, 1]\n",
    "    \n",
    "    game_opp = game.iloc[::-1].reset_index()\n",
    "    game_opp.columns += \"_opp\"\n",
    "    \n",
    "    full_game = pd.concat([game, game_opp], axis=1)\n",
    "    \n",
    "    full_game[\"season\"] = read_season_info(soup)\n",
    "    full_game[\"date\"] = os.path.basename(box_score)[:8]\n",
    "    full_game[\"date\"] = pd.to_datetime(full_game[\"date\"], format=\"%Y%m%d\")\n",
    "    \n",
    "    full_game[\"won\"] = full_game[\"total\"] > full_game[\"total_opp\"]\n",
    "    games.append(full_game)\n",
    "\n",
    "    if len(games) % 100 == 0:\n",
    "        print(f\"{len(games)} / {len(box_scores)}\")"
   ]
  },
  {
   "cell_type": "code",
   "execution_count": 86,
   "id": "c43b4181-f56c-489d-afc5-00228cf30266",
   "metadata": {},
   "outputs": [],
   "source": [
    "games_df = pd.concat(games, ignore_index=True)"
   ]
  },
  {
   "cell_type": "code",
   "execution_count": null,
   "id": "7285df6b-4069-4501-9bde-9e3e5c011423",
   "metadata": {},
   "outputs": [],
   "source": [
    "# [g.shape[1] for g in games if g.shape[1] != 150]"
   ]
  },
  {
   "cell_type": "code",
   "execution_count": null,
   "id": "2833eee0-d080-46de-a6fc-d8e941b40d3a",
   "metadata": {},
   "outputs": [],
   "source": [
    "games.df.to_csv(\"nba_games.csv\")"
   ]
  }
 ],
 "metadata": {
  "kernelspec": {
   "display_name": "Python 3 (ipykernel)",
   "language": "python",
   "name": "python3"
  },
  "language_info": {
   "codemirror_mode": {
    "name": "ipython",
    "version": 3
   },
   "file_extension": ".py",
   "mimetype": "text/x-python",
   "name": "python",
   "nbconvert_exporter": "python",
   "pygments_lexer": "ipython3",
   "version": "3.10.6"
  }
 },
 "nbformat": 4,
 "nbformat_minor": 5
}
